{
 "cells": [
  {
   "cell_type": "code",
   "execution_count": 1,
   "metadata": {
    "tags": []
   },
   "outputs": [],
   "source": [
    "# imports\n",
    "import os\n",
    "import pandas as pd\n",
    "import numpy as np\n",
    "import requests\n",
    "import json\n",
    "\n"
   ]
  },
  {
   "cell_type": "markdown",
   "metadata": {},
   "source": [
    "# Foursquare"
   ]
  },
  {
   "cell_type": "markdown",
   "metadata": {},
   "source": [
    "Send a request to Foursquare with a small radius (1000m) for all the bike stations in your city of choice. "
   ]
  },
  {
   "cell_type": "code",
   "execution_count": 7,
   "metadata": {
    "tags": []
   },
   "outputs": [
    {
     "data": {
      "text/html": [
       "<div>\n",
       "<style scoped>\n",
       "    .dataframe tbody tr th:only-of-type {\n",
       "        vertical-align: middle;\n",
       "    }\n",
       "\n",
       "    .dataframe tbody tr th {\n",
       "        vertical-align: top;\n",
       "    }\n",
       "\n",
       "    .dataframe thead th {\n",
       "        text-align: right;\n",
       "    }\n",
       "</style>\n",
       "<table border=\"1\" class=\"dataframe\">\n",
       "  <thead>\n",
       "    <tr style=\"text-align: right;\">\n",
       "      <th></th>\n",
       "      <th>Station Name</th>\n",
       "      <th>Latitude</th>\n",
       "      <th>Longitude</th>\n",
       "      <th>Bikes Available</th>\n",
       "    </tr>\n",
       "  </thead>\n",
       "  <tbody>\n",
       "    <tr>\n",
       "      <th>0</th>\n",
       "      <td>10th &amp; Cambie</td>\n",
       "      <td>49.262487</td>\n",
       "      <td>-123.114397</td>\n",
       "      <td>20</td>\n",
       "    </tr>\n",
       "    <tr>\n",
       "      <th>1</th>\n",
       "      <td>Yaletown-Roundhouse Station</td>\n",
       "      <td>49.274566</td>\n",
       "      <td>-123.121817</td>\n",
       "      <td>11</td>\n",
       "    </tr>\n",
       "    <tr>\n",
       "      <th>2</th>\n",
       "      <td>Dunsmuir &amp; Beatty</td>\n",
       "      <td>49.279764</td>\n",
       "      <td>-123.110154</td>\n",
       "      <td>13</td>\n",
       "    </tr>\n",
       "    <tr>\n",
       "      <th>3</th>\n",
       "      <td>12th &amp; Yukon (City Hall)</td>\n",
       "      <td>49.260599</td>\n",
       "      <td>-123.113504</td>\n",
       "      <td>8</td>\n",
       "    </tr>\n",
       "    <tr>\n",
       "      <th>4</th>\n",
       "      <td>8th &amp; Ash</td>\n",
       "      <td>49.264215</td>\n",
       "      <td>-123.117772</td>\n",
       "      <td>11</td>\n",
       "    </tr>\n",
       "    <tr>\n",
       "      <th>...</th>\n",
       "      <td>...</td>\n",
       "      <td>...</td>\n",
       "      <td>...</td>\n",
       "      <td>...</td>\n",
       "    </tr>\n",
       "    <tr>\n",
       "      <th>243</th>\n",
       "      <td>War Memorial Gym</td>\n",
       "      <td>49.266579</td>\n",
       "      <td>-123.248549</td>\n",
       "      <td>13</td>\n",
       "    </tr>\n",
       "    <tr>\n",
       "      <th>244</th>\n",
       "      <td>Pharmaceutical Sciences</td>\n",
       "      <td>49.262620</td>\n",
       "      <td>-123.243100</td>\n",
       "      <td>3</td>\n",
       "    </tr>\n",
       "    <tr>\n",
       "      <th>245</th>\n",
       "      <td>Georgia &amp; Main</td>\n",
       "      <td>49.278529</td>\n",
       "      <td>-123.100017</td>\n",
       "      <td>0</td>\n",
       "    </tr>\n",
       "    <tr>\n",
       "      <th>246</th>\n",
       "      <td>Bute &amp; Davie</td>\n",
       "      <td>49.282047</td>\n",
       "      <td>-123.133057</td>\n",
       "      <td>17</td>\n",
       "    </tr>\n",
       "    <tr>\n",
       "      <th>247</th>\n",
       "      <td>Beatty &amp; Robson</td>\n",
       "      <td>49.277773</td>\n",
       "      <td>-123.114237</td>\n",
       "      <td>6</td>\n",
       "    </tr>\n",
       "  </tbody>\n",
       "</table>\n",
       "<p>248 rows × 4 columns</p>\n",
       "</div>"
      ],
      "text/plain": [
       "                    Station Name   Latitude   Longitude  Bikes Available\n",
       "0                  10th & Cambie  49.262487 -123.114397               20\n",
       "1    Yaletown-Roundhouse Station  49.274566 -123.121817               11\n",
       "2              Dunsmuir & Beatty  49.279764 -123.110154               13\n",
       "3       12th & Yukon (City Hall)  49.260599 -123.113504                8\n",
       "4                      8th & Ash  49.264215 -123.117772               11\n",
       "..                           ...        ...         ...              ...\n",
       "243             War Memorial Gym  49.266579 -123.248549               13\n",
       "244      Pharmaceutical Sciences  49.262620 -123.243100                3\n",
       "245               Georgia & Main  49.278529 -123.100017                0\n",
       "246                 Bute & Davie  49.282047 -123.133057               17\n",
       "247              Beatty & Robson  49.277773 -123.114237                6\n",
       "\n",
       "[248 rows x 4 columns]"
      ]
     },
     "execution_count": 7,
     "metadata": {},
     "output_type": "execute_result"
    }
   ],
   "source": [
    "#Loading bike data\n",
    "bikes_df = pd.read_csv('bikes_df.csv')\n",
    "# Accessing the Foursquare API key from environment variables\n",
    "key = os.environ.get('foursquare_api')\n",
    "#confirm that data has loaded\n",
    "bikes_df"
   ]
  },
  {
   "cell_type": "code",
   "execution_count": 37,
   "metadata": {
    "tags": []
   },
   "outputs": [],
   "source": [
    "# Define headers for Foursquare API requests\n",
    "headers = {\n",
    "    \"accept\": \"application/json\",\n",
    "    \"Authorization\": key\n",
    "}\n",
    "# API endpoint\n",
    "url = \"https://api.foursquare.com/v3/places/search\""
   ]
  },
  {
   "cell_type": "code",
   "execution_count": 38,
   "metadata": {
    "tags": []
   },
   "outputs": [
    {
     "data": {
      "text/plain": [
       "{'query': 'Cineplex Theatres',\n",
       " 'll': '49.262487,-123.114397',\n",
       " 'radius': 1000,\n",
       " 'limit': 4,\n",
       " 'fields': 'name,location,geocodes,categories,distance,rating,tel,hours,stats,features'}"
      ]
     },
     "execution_count": 38,
     "metadata": {},
     "output_type": "execute_result"
    }
   ],
   "source": [
    " params = {\n",
    "        'query': 'Cineplex Theatres',\n",
    "        'll': f\"{bikes_df.loc[0,'Latitude']},{bikes_df.loc[0, 'Longitude']}\",\n",
    "        'radius': 1000,\n",
    "        'limit': 4,      # Limit the number of results\n",
    "    \n",
    "        'fields': 'name,location,geocodes,categories,distance,rating,tel,hours,stats,features'\n",
    "    }\n",
    "   \n",
    "params    "
   ]
  },
  {
   "cell_type": "code",
   "execution_count": 39,
   "metadata": {
    "tags": []
   },
   "outputs": [],
   "source": [
    "response = requests.get(url, params=params, headers=headers)"
   ]
  },
  {
   "cell_type": "code",
   "execution_count": 40,
   "metadata": {
    "tags": []
   },
   "outputs": [
    {
     "data": {
      "text/plain": [
       "-123.114397"
      ]
     },
     "execution_count": 40,
     "metadata": {},
     "output_type": "execute_result"
    }
   ],
   "source": [
    "# the code is extracting the latitude and longitude values for the first row of the bikes_df DataFrame\n",
    "bikes_df.loc[0,'Latitude']\n",
    "bikes_df.loc[0, 'Longitude']"
   ]
  },
  {
   "cell_type": "markdown",
   "metadata": {},
   "source": [
    "Parse through the response to get the POI (such as restaurants, bars, etc) details you want (ratings, name, location, etc)"
   ]
  },
  {
   "cell_type": "code",
   "execution_count": 41,
   "metadata": {},
   "outputs": [],
   "source": [
    "# Point of interest was Cineplex Theatres\n",
    "response_list = []\n",
    "\n",
    "for station in range(len(bikes_df)):\n",
    "    latitude = bikes_df.loc[station,'Latitude']\n",
    "    longitude =bikes_df.loc[station, 'Longitude']\n",
    "\n",
    "    url = \"https://api.foursquare.com/v3/places/search\"\n",
    "\n",
    "    headers = {\"Accept\": \"application/json\",\n",
    "                 \"Authorization\": key}\n",
    "\n",
    "    params = {\n",
    "        'query': 'Cineplex Theatres',\n",
    "        'll': f\"{latitude},{longitude}\",\n",
    "        'radius': 1000,\n",
    "        'limit': 4,      \n",
    "    \n",
    "        'fields': 'name,location,geocodes,categories,distance,rating,tel,hours,stats,features'\n",
    "    }\n",
    "\n",
    "\n",
    "    response = requests.get(url, params=params, headers=headers)\n",
    "\n",
    "    if response.status_code == 200:\n",
    "        data_json = response.json()\n",
    "        response_list.append(data_json)\n",
    "    else:\n",
    "        print(f\"Request was unsuccessful: {response.status_code}\")\n",
    "        \n",
    "unnested_data = [\n",
    "    {\n",
    "    \"Latitude\": response[\"geocodes\"][\"main\"].get(\"latitude\"),\n",
    "    \"Longitude\": response[\"geocodes\"][\"main\"].get(\"longitude\"),\n",
    "    \"name\": response.get(\"name\"),\n",
    "    \"distance\": response.get(\"distance\"),\n",
    "    \"address\": response[\"location\"].get(\"formatted_address\"),\n",
    "    \"telephone\": response.get(\"tel\"),\n",
    "    \"rating\": response.get(\"rating\"),\n",
    "    \"open_true\": response[\"hours\"].get(\"open_now\")\n",
    "    }\n",
    "  for result in response_list\n",
    "  for response in result.get(\"results\", [])\n",
    "]"
   ]
  },
  {
   "cell_type": "markdown",
   "metadata": {},
   "source": [
    "Put your parsed results into a DataFrame"
   ]
  },
  {
   "cell_type": "code",
   "execution_count": 46,
   "metadata": {},
   "outputs": [
    {
     "data": {
      "text/html": [
       "<div>\n",
       "<style scoped>\n",
       "    .dataframe tbody tr th:only-of-type {\n",
       "        vertical-align: middle;\n",
       "    }\n",
       "\n",
       "    .dataframe tbody tr th {\n",
       "        vertical-align: top;\n",
       "    }\n",
       "\n",
       "    .dataframe thead th {\n",
       "        text-align: right;\n",
       "    }\n",
       "</style>\n",
       "<table border=\"1\" class=\"dataframe\">\n",
       "  <thead>\n",
       "    <tr style=\"text-align: right;\">\n",
       "      <th></th>\n",
       "      <th>Latitude</th>\n",
       "      <th>Longitude</th>\n",
       "      <th>name</th>\n",
       "      <th>distance</th>\n",
       "      <th>address</th>\n",
       "      <th>telephone</th>\n",
       "      <th>rating</th>\n",
       "      <th>open_true</th>\n",
       "    </tr>\n",
       "  </thead>\n",
       "  <tbody>\n",
       "    <tr>\n",
       "      <th>0</th>\n",
       "      <td>49.263025</td>\n",
       "      <td>-123.113913</td>\n",
       "      <td>Pacific Ballet Theatre School</td>\n",
       "      <td>69</td>\n",
       "      <td>456 Broadway W, Vancouver BC V5Y 1R3</td>\n",
       "      <td>(604) 873-5024</td>\n",
       "      <td>NaN</td>\n",
       "      <td>False</td>\n",
       "    </tr>\n",
       "    <tr>\n",
       "      <th>1</th>\n",
       "      <td>49.254508</td>\n",
       "      <td>-123.114891</td>\n",
       "      <td>Cineplex Inc</td>\n",
       "      <td>887</td>\n",
       "      <td>3440 Cambie St, Vancouver BC V5Z 2W8</td>\n",
       "      <td>(604) 709-3456</td>\n",
       "      <td>NaN</td>\n",
       "      <td>False</td>\n",
       "    </tr>\n",
       "    <tr>\n",
       "      <th>2</th>\n",
       "      <td>49.281878</td>\n",
       "      <td>-123.124201</td>\n",
       "      <td>Cineplex Inc</td>\n",
       "      <td>830</td>\n",
       "      <td>900 Burrard St, Vancouver BC V6Z 3G5</td>\n",
       "      <td>(604) 630-1416</td>\n",
       "      <td>NaN</td>\n",
       "      <td>True</td>\n",
       "    </tr>\n",
       "    <tr>\n",
       "      <th>3</th>\n",
       "      <td>49.280570</td>\n",
       "      <td>-123.119384</td>\n",
       "      <td>Vancouver Civic Theatres</td>\n",
       "      <td>690</td>\n",
       "      <td>823 Seymour St, Vancouver BC V6B 3L4</td>\n",
       "      <td>(604) 665-3050</td>\n",
       "      <td>NaN</td>\n",
       "      <td>False</td>\n",
       "    </tr>\n",
       "    <tr>\n",
       "      <th>4</th>\n",
       "      <td>49.281089</td>\n",
       "      <td>-123.112776</td>\n",
       "      <td>Vancouver Civic Theatres</td>\n",
       "      <td>977</td>\n",
       "      <td>600 Hamilton St, Vancouver BC V6B 3L4</td>\n",
       "      <td>(604) 665-3050</td>\n",
       "      <td>NaN</td>\n",
       "      <td>False</td>\n",
       "    </tr>\n",
       "    <tr>\n",
       "      <th>...</th>\n",
       "      <td>...</td>\n",
       "      <td>...</td>\n",
       "      <td>...</td>\n",
       "      <td>...</td>\n",
       "      <td>...</td>\n",
       "      <td>...</td>\n",
       "      <td>...</td>\n",
       "      <td>...</td>\n",
       "    </tr>\n",
       "    <tr>\n",
       "      <th>328</th>\n",
       "      <td>49.281878</td>\n",
       "      <td>-123.124201</td>\n",
       "      <td>Cineplex Inc</td>\n",
       "      <td>642</td>\n",
       "      <td>900 Burrard St, Vancouver BC V6Z 3G5</td>\n",
       "      <td>(604) 630-1416</td>\n",
       "      <td>NaN</td>\n",
       "      <td>True</td>\n",
       "    </tr>\n",
       "    <tr>\n",
       "      <th>329</th>\n",
       "      <td>49.280300</td>\n",
       "      <td>-123.106705</td>\n",
       "      <td>Cineplex Cinemas</td>\n",
       "      <td>609</td>\n",
       "      <td>88 W Pender St (btwn Abbott &amp; Carrall), Vancou...</td>\n",
       "      <td>(604) 806-0799</td>\n",
       "      <td>6.7</td>\n",
       "      <td>False</td>\n",
       "    </tr>\n",
       "    <tr>\n",
       "      <th>330</th>\n",
       "      <td>49.282767</td>\n",
       "      <td>-123.109268</td>\n",
       "      <td>Kokoro Dance Theatre Society</td>\n",
       "      <td>661</td>\n",
       "      <td>207 Hastings St W, Vancouver BC V6B 1H7</td>\n",
       "      <td>(604) 662-7441</td>\n",
       "      <td>NaN</td>\n",
       "      <td>True</td>\n",
       "    </tr>\n",
       "    <tr>\n",
       "      <th>331</th>\n",
       "      <td>49.281089</td>\n",
       "      <td>-123.112776</td>\n",
       "      <td>Vancouver Civic Theatres</td>\n",
       "      <td>383</td>\n",
       "      <td>600 Hamilton St, Vancouver BC V6B 3L4</td>\n",
       "      <td>(604) 665-3050</td>\n",
       "      <td>NaN</td>\n",
       "      <td>False</td>\n",
       "    </tr>\n",
       "    <tr>\n",
       "      <th>332</th>\n",
       "      <td>49.281878</td>\n",
       "      <td>-123.124201</td>\n",
       "      <td>Cineplex Inc</td>\n",
       "      <td>854</td>\n",
       "      <td>900 Burrard St, Vancouver BC V6Z 3G5</td>\n",
       "      <td>(604) 630-1416</td>\n",
       "      <td>NaN</td>\n",
       "      <td>True</td>\n",
       "    </tr>\n",
       "  </tbody>\n",
       "</table>\n",
       "<p>333 rows × 8 columns</p>\n",
       "</div>"
      ],
      "text/plain": [
       "      Latitude   Longitude                           name  distance  \\\n",
       "0    49.263025 -123.113913  Pacific Ballet Theatre School        69   \n",
       "1    49.254508 -123.114891                   Cineplex Inc       887   \n",
       "2    49.281878 -123.124201                   Cineplex Inc       830   \n",
       "3    49.280570 -123.119384       Vancouver Civic Theatres       690   \n",
       "4    49.281089 -123.112776       Vancouver Civic Theatres       977   \n",
       "..         ...         ...                            ...       ...   \n",
       "328  49.281878 -123.124201                   Cineplex Inc       642   \n",
       "329  49.280300 -123.106705               Cineplex Cinemas       609   \n",
       "330  49.282767 -123.109268   Kokoro Dance Theatre Society       661   \n",
       "331  49.281089 -123.112776       Vancouver Civic Theatres       383   \n",
       "332  49.281878 -123.124201                   Cineplex Inc       854   \n",
       "\n",
       "                                               address       telephone  \\\n",
       "0                 456 Broadway W, Vancouver BC V5Y 1R3  (604) 873-5024   \n",
       "1                 3440 Cambie St, Vancouver BC V5Z 2W8  (604) 709-3456   \n",
       "2                 900 Burrard St, Vancouver BC V6Z 3G5  (604) 630-1416   \n",
       "3                 823 Seymour St, Vancouver BC V6B 3L4  (604) 665-3050   \n",
       "4                600 Hamilton St, Vancouver BC V6B 3L4  (604) 665-3050   \n",
       "..                                                 ...             ...   \n",
       "328               900 Burrard St, Vancouver BC V6Z 3G5  (604) 630-1416   \n",
       "329  88 W Pender St (btwn Abbott & Carrall), Vancou...  (604) 806-0799   \n",
       "330            207 Hastings St W, Vancouver BC V6B 1H7  (604) 662-7441   \n",
       "331              600 Hamilton St, Vancouver BC V6B 3L4  (604) 665-3050   \n",
       "332               900 Burrard St, Vancouver BC V6Z 3G5  (604) 630-1416   \n",
       "\n",
       "     rating  open_true  \n",
       "0       NaN      False  \n",
       "1       NaN      False  \n",
       "2       NaN       True  \n",
       "3       NaN      False  \n",
       "4       NaN      False  \n",
       "..      ...        ...  \n",
       "328     NaN       True  \n",
       "329     6.7      False  \n",
       "330     NaN       True  \n",
       "331     NaN      False  \n",
       "332     NaN       True  \n",
       "\n",
       "[333 rows x 8 columns]"
      ]
     },
     "execution_count": 46,
     "metadata": {},
     "output_type": "execute_result"
    }
   ],
   "source": [
    "Cineplex_Theatres = pd.DataFrame(unnested_data)\n",
    "\n",
    "Cineplex_Theatres"
   ]
  },
  {
   "cell_type": "code",
   "execution_count": 113,
   "metadata": {
    "tags": []
   },
   "outputs": [],
   "source": [
    "Cineplex_Theatres.to_csv('Cineplex_Theatres.csv', index=False)"
   ]
  },
  {
   "cell_type": "markdown",
   "metadata": {},
   "source": [
    "# Yelp"
   ]
  },
  {
   "cell_type": "markdown",
   "metadata": {},
   "source": [
    "Send a request to Yelp with a small radius (1000m) for all the bike stations in your city of choice. "
   ]
  },
  {
   "cell_type": "code",
   "execution_count": 63,
   "metadata": {},
   "outputs": [],
   "source": [
    "# Accessing the Yelp API key from environment variables\n",
    "key = os.environ.get('yelp_api')"
   ]
  },
  {
   "cell_type": "code",
   "execution_count": 68,
   "metadata": {
    "tags": []
   },
   "outputs": [],
   "source": [
    "url_yelp = \"https://api.yelp.com/v3/businesses/search\"\n",
    "#api endpoint"
   ]
  },
  {
   "cell_type": "code",
   "execution_count": 84,
   "metadata": {
    "tags": []
   },
   "outputs": [],
   "source": [
    "headers = {\"accept\": \"application/json\",\n",
    "           \"Authorization\": f\"Bearer {key}\"}"
   ]
  },
  {
   "cell_type": "code",
   "execution_count": 85,
   "metadata": {
    "tags": []
   },
   "outputs": [],
   "source": [
    " params = {\n",
    "           'latitude': latitude,\n",
    "           'longitude': longitude,\n",
    "           'term': 'Cineplex Theatres',\n",
    "           'radius': 1000,\n",
    "             } "
   ]
  },
  {
   "cell_type": "code",
   "execution_count": 86,
   "metadata": {
    "tags": []
   },
   "outputs": [
    {
     "data": {
      "text/plain": [
       "(49.279764, -123.110154)"
      ]
     },
     "execution_count": 86,
     "metadata": {},
     "output_type": "execute_result"
    }
   ],
   "source": [
    "latitude, longitude"
   ]
  },
  {
   "cell_type": "code",
   "execution_count": 87,
   "metadata": {
    "tags": []
   },
   "outputs": [],
   "source": [
    "response = requests.get(url_yelp, params=params, headers=headers)"
   ]
  },
  {
   "cell_type": "code",
   "execution_count": 88,
   "metadata": {
    "tags": []
   },
   "outputs": [
    {
     "data": {
      "text/plain": [
       "{'businesses': [{'id': 'tlPUV1xUtBsnPGQT66duXg',\n",
       "   'alias': 'cineplex-odeon-international-village-vancouver',\n",
       "   'name': 'Cineplex Odeon International Village',\n",
       "   'image_url': 'https://s3-media3.fl.yelpcdn.com/bphoto/qSWGuZS-lYdGmSVwnL6_Pg/o.jpg',\n",
       "   'is_closed': False,\n",
       "   'url': 'https://www.yelp.com/biz/cineplex-odeon-international-village-vancouver?adjust_creative=hFoJK0_8pC7raHFV2qnuMw&utm_campaign=yelp_api_v3&utm_medium=api_v3_business_search&utm_source=hFoJK0_8pC7raHFV2qnuMw',\n",
       "   'review_count': 107,\n",
       "   'categories': [{'alias': 'movietheaters', 'title': 'Cinema'}],\n",
       "   'rating': 4.0,\n",
       "   'coordinates': {'latitude': 49.28029, 'longitude': -123.10675},\n",
       "   'transactions': [],\n",
       "   'location': {'address1': '88 W Pender Street',\n",
       "    'address2': '',\n",
       "    'address3': None,\n",
       "    'city': 'Vancouver',\n",
       "    'zip_code': 'V6B 6N9',\n",
       "    'country': 'CA',\n",
       "    'state': 'BC',\n",
       "    'display_address': ['88 W Pender Street',\n",
       "     'Vancouver, BC V6B 6N9',\n",
       "     'Canada']},\n",
       "   'phone': '+16048060799',\n",
       "   'display_phone': '+1 604-806-0799',\n",
       "   'distance': 241.66171225427803}],\n",
       " 'total': 1,\n",
       " 'region': {'center': {'longitude': -123.110154, 'latitude': 49.279764}}}"
      ]
     },
     "execution_count": 88,
     "metadata": {},
     "output_type": "execute_result"
    }
   ],
   "source": [
    "response.json()"
   ]
  },
  {
   "cell_type": "code",
   "execution_count": 89,
   "metadata": {
    "tags": []
   },
   "outputs": [
    {
     "data": {
      "text/plain": [
       "-123.114397"
      ]
     },
     "execution_count": 89,
     "metadata": {},
     "output_type": "execute_result"
    }
   ],
   "source": [
    "bikes_df.loc[0,'Latitude']\n",
    "bikes_df.loc[0, 'Longitude']"
   ]
  },
  {
   "cell_type": "code",
   "execution_count": null,
   "metadata": {},
   "outputs": [],
   "source": []
  },
  {
   "cell_type": "markdown",
   "metadata": {},
   "source": [
    "Parse through the response to get the POI (such as restaurants, bars, etc) details you want (ratings, name, location, etc)"
   ]
  },
  {
   "cell_type": "code",
   "execution_count": 95,
   "metadata": {},
   "outputs": [],
   "source": [
    "#POI was Cineplex Theatres\n",
    "y_response_list = []\n",
    "maximum_request = 300\n",
    "request_count = 0\n",
    "\n",
    "for index, row in bikes_df.iterrows():\n",
    "    if request_count >= maximum_request:\n",
    "        break\n",
    "\n",
    "    latitude = row['Latitude']\n",
    "    longitude = row['Longitude']\n",
    "\n",
    "    url_yelp = \"https://api.yelp.com/v3/businesses/search\"\n",
    "    headers = {\"Accept\": \"application/json\",\n",
    "                 \"Authorization\": f\"Bearer {key}\"}\n",
    "\n",
    "    params = {\n",
    "        'latitude': latitude,\n",
    "        'longitude': longitude,\n",
    "        'term': 'Cineplex Theatres',\n",
    "        'radius': 1000,\n",
    "    }\n",
    "\n",
    "    response_yelp = requests.get(url=url_yelp, params=params, headers=headers)\n",
    "\n",
    "    if response_yelp.status_code == 200:\n",
    "        yelp_data_json = response_yelp.json()\n",
    "        y_response_list.append(yelp_data_json)\n",
    "        request_count += 1\n",
    "    else:\n",
    "        print(f\"Request failed: {response_yelp.status_code}\")\n",
    "\n",
    "\n",
    "    \n",
    "\n",
    "    \n",
    "\n",
    "\n"
   ]
  },
  {
   "cell_type": "code",
   "execution_count": 98,
   "metadata": {
    "tags": []
   },
   "outputs": [],
   "source": [
    "yelp_unnested_data = [\n",
    "    {\n",
    "    \"name\": response.get(\"name\"),\n",
    "    \"distance\": response.get(\"distance\"),\n",
    "    \"address\": response[\"location\"].get(\"display_address\"),\n",
    "    \"telephone\": response.get(\"display_phone\"),\n",
    "    \"rating\": response.get(\"rating\"),\n",
    "    \"review_counts\": response.get(\"review_count\"),\n",
    "    \"closed\": response.get(\"is_closed\")\n",
    "    }\n",
    "  for result in y_response_list\n",
    "  for response in result.get(\"businesses\", [])\n",
    "]"
   ]
  },
  {
   "cell_type": "markdown",
   "metadata": {},
   "source": [
    "Put your parsed results into a DataFrame"
   ]
  },
  {
   "cell_type": "code",
   "execution_count": 100,
   "metadata": {
    "tags": []
   },
   "outputs": [],
   "source": [
    "# Your code to create Yelp_Cineplex_Theatres DataFrame\n",
    "Yelp_Cineplex_Theatres = pd.DataFrame(unnested_data)"
   ]
  },
  {
   "cell_type": "code",
   "execution_count": 101,
   "metadata": {
    "tags": []
   },
   "outputs": [
    {
     "data": {
      "text/html": [
       "<div>\n",
       "<style scoped>\n",
       "    .dataframe tbody tr th:only-of-type {\n",
       "        vertical-align: middle;\n",
       "    }\n",
       "\n",
       "    .dataframe tbody tr th {\n",
       "        vertical-align: top;\n",
       "    }\n",
       "\n",
       "    .dataframe thead th {\n",
       "        text-align: right;\n",
       "    }\n",
       "</style>\n",
       "<table border=\"1\" class=\"dataframe\">\n",
       "  <thead>\n",
       "    <tr style=\"text-align: right;\">\n",
       "      <th></th>\n",
       "      <th>Latitude</th>\n",
       "      <th>Longitude</th>\n",
       "      <th>name</th>\n",
       "      <th>distance</th>\n",
       "      <th>address</th>\n",
       "      <th>telephone</th>\n",
       "      <th>rating</th>\n",
       "      <th>open_true</th>\n",
       "    </tr>\n",
       "  </thead>\n",
       "  <tbody>\n",
       "    <tr>\n",
       "      <th>0</th>\n",
       "      <td>49.263025</td>\n",
       "      <td>-123.113913</td>\n",
       "      <td>Pacific Ballet Theatre School</td>\n",
       "      <td>69</td>\n",
       "      <td>456 Broadway W, Vancouver BC V5Y 1R3</td>\n",
       "      <td>(604) 873-5024</td>\n",
       "      <td>NaN</td>\n",
       "      <td>False</td>\n",
       "    </tr>\n",
       "    <tr>\n",
       "      <th>1</th>\n",
       "      <td>49.254508</td>\n",
       "      <td>-123.114891</td>\n",
       "      <td>Cineplex Inc</td>\n",
       "      <td>887</td>\n",
       "      <td>3440 Cambie St, Vancouver BC V5Z 2W8</td>\n",
       "      <td>(604) 709-3456</td>\n",
       "      <td>NaN</td>\n",
       "      <td>False</td>\n",
       "    </tr>\n",
       "    <tr>\n",
       "      <th>2</th>\n",
       "      <td>49.281878</td>\n",
       "      <td>-123.124201</td>\n",
       "      <td>Cineplex Inc</td>\n",
       "      <td>830</td>\n",
       "      <td>900 Burrard St, Vancouver BC V6Z 3G5</td>\n",
       "      <td>(604) 630-1416</td>\n",
       "      <td>NaN</td>\n",
       "      <td>True</td>\n",
       "    </tr>\n",
       "    <tr>\n",
       "      <th>3</th>\n",
       "      <td>49.280570</td>\n",
       "      <td>-123.119384</td>\n",
       "      <td>Vancouver Civic Theatres</td>\n",
       "      <td>690</td>\n",
       "      <td>823 Seymour St, Vancouver BC V6B 3L4</td>\n",
       "      <td>(604) 665-3050</td>\n",
       "      <td>NaN</td>\n",
       "      <td>False</td>\n",
       "    </tr>\n",
       "    <tr>\n",
       "      <th>4</th>\n",
       "      <td>49.281089</td>\n",
       "      <td>-123.112776</td>\n",
       "      <td>Vancouver Civic Theatres</td>\n",
       "      <td>977</td>\n",
       "      <td>600 Hamilton St, Vancouver BC V6B 3L4</td>\n",
       "      <td>(604) 665-3050</td>\n",
       "      <td>NaN</td>\n",
       "      <td>False</td>\n",
       "    </tr>\n",
       "    <tr>\n",
       "      <th>...</th>\n",
       "      <td>...</td>\n",
       "      <td>...</td>\n",
       "      <td>...</td>\n",
       "      <td>...</td>\n",
       "      <td>...</td>\n",
       "      <td>...</td>\n",
       "      <td>...</td>\n",
       "      <td>...</td>\n",
       "    </tr>\n",
       "    <tr>\n",
       "      <th>328</th>\n",
       "      <td>49.281878</td>\n",
       "      <td>-123.124201</td>\n",
       "      <td>Cineplex Inc</td>\n",
       "      <td>642</td>\n",
       "      <td>900 Burrard St, Vancouver BC V6Z 3G5</td>\n",
       "      <td>(604) 630-1416</td>\n",
       "      <td>NaN</td>\n",
       "      <td>True</td>\n",
       "    </tr>\n",
       "    <tr>\n",
       "      <th>329</th>\n",
       "      <td>49.280300</td>\n",
       "      <td>-123.106705</td>\n",
       "      <td>Cineplex Cinemas</td>\n",
       "      <td>609</td>\n",
       "      <td>88 W Pender St (btwn Abbott &amp; Carrall), Vancou...</td>\n",
       "      <td>(604) 806-0799</td>\n",
       "      <td>6.7</td>\n",
       "      <td>False</td>\n",
       "    </tr>\n",
       "    <tr>\n",
       "      <th>330</th>\n",
       "      <td>49.282767</td>\n",
       "      <td>-123.109268</td>\n",
       "      <td>Kokoro Dance Theatre Society</td>\n",
       "      <td>661</td>\n",
       "      <td>207 Hastings St W, Vancouver BC V6B 1H7</td>\n",
       "      <td>(604) 662-7441</td>\n",
       "      <td>NaN</td>\n",
       "      <td>True</td>\n",
       "    </tr>\n",
       "    <tr>\n",
       "      <th>331</th>\n",
       "      <td>49.281089</td>\n",
       "      <td>-123.112776</td>\n",
       "      <td>Vancouver Civic Theatres</td>\n",
       "      <td>383</td>\n",
       "      <td>600 Hamilton St, Vancouver BC V6B 3L4</td>\n",
       "      <td>(604) 665-3050</td>\n",
       "      <td>NaN</td>\n",
       "      <td>False</td>\n",
       "    </tr>\n",
       "    <tr>\n",
       "      <th>332</th>\n",
       "      <td>49.281878</td>\n",
       "      <td>-123.124201</td>\n",
       "      <td>Cineplex Inc</td>\n",
       "      <td>854</td>\n",
       "      <td>900 Burrard St, Vancouver BC V6Z 3G5</td>\n",
       "      <td>(604) 630-1416</td>\n",
       "      <td>NaN</td>\n",
       "      <td>True</td>\n",
       "    </tr>\n",
       "  </tbody>\n",
       "</table>\n",
       "<p>333 rows × 8 columns</p>\n",
       "</div>"
      ],
      "text/plain": [
       "      Latitude   Longitude                           name  distance  \\\n",
       "0    49.263025 -123.113913  Pacific Ballet Theatre School        69   \n",
       "1    49.254508 -123.114891                   Cineplex Inc       887   \n",
       "2    49.281878 -123.124201                   Cineplex Inc       830   \n",
       "3    49.280570 -123.119384       Vancouver Civic Theatres       690   \n",
       "4    49.281089 -123.112776       Vancouver Civic Theatres       977   \n",
       "..         ...         ...                            ...       ...   \n",
       "328  49.281878 -123.124201                   Cineplex Inc       642   \n",
       "329  49.280300 -123.106705               Cineplex Cinemas       609   \n",
       "330  49.282767 -123.109268   Kokoro Dance Theatre Society       661   \n",
       "331  49.281089 -123.112776       Vancouver Civic Theatres       383   \n",
       "332  49.281878 -123.124201                   Cineplex Inc       854   \n",
       "\n",
       "                                               address       telephone  \\\n",
       "0                 456 Broadway W, Vancouver BC V5Y 1R3  (604) 873-5024   \n",
       "1                 3440 Cambie St, Vancouver BC V5Z 2W8  (604) 709-3456   \n",
       "2                 900 Burrard St, Vancouver BC V6Z 3G5  (604) 630-1416   \n",
       "3                 823 Seymour St, Vancouver BC V6B 3L4  (604) 665-3050   \n",
       "4                600 Hamilton St, Vancouver BC V6B 3L4  (604) 665-3050   \n",
       "..                                                 ...             ...   \n",
       "328               900 Burrard St, Vancouver BC V6Z 3G5  (604) 630-1416   \n",
       "329  88 W Pender St (btwn Abbott & Carrall), Vancou...  (604) 806-0799   \n",
       "330            207 Hastings St W, Vancouver BC V6B 1H7  (604) 662-7441   \n",
       "331              600 Hamilton St, Vancouver BC V6B 3L4  (604) 665-3050   \n",
       "332               900 Burrard St, Vancouver BC V6Z 3G5  (604) 630-1416   \n",
       "\n",
       "     rating  open_true  \n",
       "0       NaN      False  \n",
       "1       NaN      False  \n",
       "2       NaN       True  \n",
       "3       NaN      False  \n",
       "4       NaN      False  \n",
       "..      ...        ...  \n",
       "328     NaN       True  \n",
       "329     6.7      False  \n",
       "330     NaN       True  \n",
       "331     NaN      False  \n",
       "332     NaN       True  \n",
       "\n",
       "[333 rows x 8 columns]"
      ]
     },
     "execution_count": 101,
     "metadata": {},
     "output_type": "execute_result"
    }
   ],
   "source": [
    "Yelp_Cineplex_Theatres"
   ]
  },
  {
   "cell_type": "code",
   "execution_count": 102,
   "metadata": {
    "tags": []
   },
   "outputs": [],
   "source": [
    "Yelp_Cineplex_Theatres.to_csv('Yelp_Cineplex_Theatres.csv', index=False)"
   ]
  },
  {
   "cell_type": "markdown",
   "metadata": {},
   "source": [
    "# Comparing Results"
   ]
  },
  {
   "cell_type": "markdown",
   "metadata": {},
   "source": [
    "Which API provided you with more complete data? Provide an explanation. "
   ]
  },
  {
   "cell_type": "markdown",
   "metadata": {},
   "source": [
    "The two APIs were comparable in terms of accessing Cineplex theatre data. This is shown below "
   ]
  },
  {
   "cell_type": "code",
   "execution_count": 106,
   "metadata": {
    "tags": []
   },
   "outputs": [
    {
     "data": {
      "text/plain": [
       "7"
      ]
     },
     "execution_count": 106,
     "metadata": {},
     "output_type": "execute_result"
    }
   ],
   "source": [
    "# Check for duplicating values to compare with Yelp as they both have 333 rows * 8 cols\n",
    "Cineplex_Theatres.duplicated().sum()"
   ]
  },
  {
   "cell_type": "code",
   "execution_count": 107,
   "metadata": {
    "tags": []
   },
   "outputs": [
    {
     "data": {
      "text/plain": [
       "7"
      ]
     },
     "execution_count": 107,
     "metadata": {},
     "output_type": "execute_result"
    }
   ],
   "source": [
    "# Same check on Yelp as with Foursquare above\n",
    "Yelp_Cineplex_Theatres.duplicated().sum()\n"
   ]
  },
  {
   "cell_type": "code",
   "execution_count": null,
   "metadata": {},
   "outputs": [],
   "source": [
    "The duplicates in this case have the same latitude, longitude, address, the difference is the distance"
   ]
  },
  {
   "cell_type": "markdown",
   "metadata": {},
   "source": [
    "Get the top 10 restaurants according to their rating"
   ]
  },
  {
   "cell_type": "code",
   "execution_count": 111,
   "metadata": {
    "tags": []
   },
   "outputs": [
    {
     "data": {
      "text/html": [
       "<div>\n",
       "<style scoped>\n",
       "    .dataframe tbody tr th:only-of-type {\n",
       "        vertical-align: middle;\n",
       "    }\n",
       "\n",
       "    .dataframe tbody tr th {\n",
       "        vertical-align: top;\n",
       "    }\n",
       "\n",
       "    .dataframe thead th {\n",
       "        text-align: right;\n",
       "    }\n",
       "</style>\n",
       "<table border=\"1\" class=\"dataframe\">\n",
       "  <thead>\n",
       "    <tr style=\"text-align: right;\">\n",
       "      <th></th>\n",
       "      <th>name</th>\n",
       "      <th>distance</th>\n",
       "      <th>address</th>\n",
       "      <th>telephone</th>\n",
       "      <th>rating</th>\n",
       "      <th>open_true</th>\n",
       "    </tr>\n",
       "  </thead>\n",
       "  <tbody>\n",
       "    <tr>\n",
       "      <th>168</th>\n",
       "      <td>Bard on the Beach Theatre Society</td>\n",
       "      <td>277</td>\n",
       "      <td>1100 Chestnut St, Vancouver BC V6J 3J9</td>\n",
       "      <td>(604) 737-1551</td>\n",
       "      <td>8.2</td>\n",
       "      <td>True</td>\n",
       "    </tr>\n",
       "    <tr>\n",
       "      <th>94</th>\n",
       "      <td>Bard on the Beach Theatre Society</td>\n",
       "      <td>591</td>\n",
       "      <td>1100 Chestnut St, Vancouver BC V6J 3J9</td>\n",
       "      <td>(604) 737-1551</td>\n",
       "      <td>8.2</td>\n",
       "      <td>True</td>\n",
       "    </tr>\n",
       "    <tr>\n",
       "      <th>244</th>\n",
       "      <td>Bard on the Beach Theatre Society</td>\n",
       "      <td>550</td>\n",
       "      <td>1100 Chestnut St, Vancouver BC V6J 3J9</td>\n",
       "      <td>(604) 737-1551</td>\n",
       "      <td>8.2</td>\n",
       "      <td>True</td>\n",
       "    </tr>\n",
       "    <tr>\n",
       "      <th>245</th>\n",
       "      <td>Bard on the Beach Theatre Society</td>\n",
       "      <td>719</td>\n",
       "      <td>1100 Chestnut St, Vancouver BC V6J 3J9</td>\n",
       "      <td>(604) 737-1551</td>\n",
       "      <td>8.2</td>\n",
       "      <td>True</td>\n",
       "    </tr>\n",
       "    <tr>\n",
       "      <th>219</th>\n",
       "      <td>Bard on the Beach Theatre Society</td>\n",
       "      <td>728</td>\n",
       "      <td>1100 Chestnut St, Vancouver BC V6J 3J9</td>\n",
       "      <td>(604) 737-1551</td>\n",
       "      <td>8.2</td>\n",
       "      <td>True</td>\n",
       "    </tr>\n",
       "    <tr>\n",
       "      <th>263</th>\n",
       "      <td>Bard on the Beach Theatre Society</td>\n",
       "      <td>892</td>\n",
       "      <td>1100 Chestnut St, Vancouver BC V6J 3J9</td>\n",
       "      <td>(604) 737-1551</td>\n",
       "      <td>8.2</td>\n",
       "      <td>True</td>\n",
       "    </tr>\n",
       "    <tr>\n",
       "      <th>184</th>\n",
       "      <td>Bard on the Beach Theatre Society</td>\n",
       "      <td>650</td>\n",
       "      <td>1100 Chestnut St, Vancouver BC V6J 3J9</td>\n",
       "      <td>(604) 737-1551</td>\n",
       "      <td>8.2</td>\n",
       "      <td>True</td>\n",
       "    </tr>\n",
       "    <tr>\n",
       "      <th>181</th>\n",
       "      <td>Bard on the Beach Theatre Society</td>\n",
       "      <td>960</td>\n",
       "      <td>1100 Chestnut St, Vancouver BC V6J 3J9</td>\n",
       "      <td>(604) 737-1551</td>\n",
       "      <td>8.2</td>\n",
       "      <td>True</td>\n",
       "    </tr>\n",
       "    <tr>\n",
       "      <th>268</th>\n",
       "      <td>Bard on the Beach Theatre Society</td>\n",
       "      <td>899</td>\n",
       "      <td>1100 Chestnut St, Vancouver BC V6J 3J9</td>\n",
       "      <td>(604) 737-1551</td>\n",
       "      <td>8.2</td>\n",
       "      <td>True</td>\n",
       "    </tr>\n",
       "    <tr>\n",
       "      <th>159</th>\n",
       "      <td>Bard on the Beach Theatre Society</td>\n",
       "      <td>970</td>\n",
       "      <td>1100 Chestnut St, Vancouver BC V6J 3J9</td>\n",
       "      <td>(604) 737-1551</td>\n",
       "      <td>8.2</td>\n",
       "      <td>True</td>\n",
       "    </tr>\n",
       "  </tbody>\n",
       "</table>\n",
       "</div>"
      ],
      "text/plain": [
       "                                  name  distance  \\\n",
       "168  Bard on the Beach Theatre Society       277   \n",
       "94   Bard on the Beach Theatre Society       591   \n",
       "244  Bard on the Beach Theatre Society       550   \n",
       "245  Bard on the Beach Theatre Society       719   \n",
       "219  Bard on the Beach Theatre Society       728   \n",
       "263  Bard on the Beach Theatre Society       892   \n",
       "184  Bard on the Beach Theatre Society       650   \n",
       "181  Bard on the Beach Theatre Society       960   \n",
       "268  Bard on the Beach Theatre Society       899   \n",
       "159  Bard on the Beach Theatre Society       970   \n",
       "\n",
       "                                    address       telephone  rating  open_true  \n",
       "168  1100 Chestnut St, Vancouver BC V6J 3J9  (604) 737-1551     8.2       True  \n",
       "94   1100 Chestnut St, Vancouver BC V6J 3J9  (604) 737-1551     8.2       True  \n",
       "244  1100 Chestnut St, Vancouver BC V6J 3J9  (604) 737-1551     8.2       True  \n",
       "245  1100 Chestnut St, Vancouver BC V6J 3J9  (604) 737-1551     8.2       True  \n",
       "219  1100 Chestnut St, Vancouver BC V6J 3J9  (604) 737-1551     8.2       True  \n",
       "263  1100 Chestnut St, Vancouver BC V6J 3J9  (604) 737-1551     8.2       True  \n",
       "184  1100 Chestnut St, Vancouver BC V6J 3J9  (604) 737-1551     8.2       True  \n",
       "181  1100 Chestnut St, Vancouver BC V6J 3J9  (604) 737-1551     8.2       True  \n",
       "268  1100 Chestnut St, Vancouver BC V6J 3J9  (604) 737-1551     8.2       True  \n",
       "159  1100 Chestnut St, Vancouver BC V6J 3J9  (604) 737-1551     8.2       True  "
      ]
     },
     "execution_count": 111,
     "metadata": {},
     "output_type": "execute_result"
    }
   ],
   "source": [
    "\n",
    "#I had initially queried for entertainment in the form of cinema; the top 10 cinemas from Foursquare API are as follows;\n",
    "top10cinema = Cineplex_Theatres.sort_values(by='rating', ascending=False).head(10)[['name', 'distance', 'address', 'telephone', 'rating', 'open_true']]\n",
    "top10cinema"
   ]
  },
  {
   "cell_type": "code",
   "execution_count": null,
   "metadata": {},
   "outputs": [],
   "source": [
    "From this result, the data duplicates have to be dropped if longitude and latitude match,\n",
    "even though the distance is different, this way we are left with unique values and we can get the top 10 values.\n",
    "The result would mimick yelp values"
   ]
  },
  {
   "cell_type": "code",
   "execution_count": null,
   "metadata": {},
   "outputs": [],
   "source": []
  }
 ],
 "metadata": {
  "kernelspec": {
   "display_name": "Python 3 (ipykernel)",
   "language": "python",
   "name": "python3"
  },
  "language_info": {
   "codemirror_mode": {
    "name": "ipython",
    "version": 3
   },
   "file_extension": ".py",
   "mimetype": "text/x-python",
   "name": "python",
   "nbconvert_exporter": "python",
   "pygments_lexer": "ipython3",
   "version": "3.11.5"
  }
 },
 "nbformat": 4,
 "nbformat_minor": 4
}
