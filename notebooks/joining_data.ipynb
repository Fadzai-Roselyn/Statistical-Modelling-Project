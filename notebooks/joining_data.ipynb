{
 "cells": [
  {
   "cell_type": "markdown",
   "metadata": {},
   "source": [
    "Join the data from Part 1 with the data from Part 2 to create a new dataframe."
   ]
  },
  {
   "cell_type": "code",
   "execution_count": 2,
   "metadata": {},
   "outputs": [],
   "source": [
    "import pandas as pd\n",
    "import numpy as np\n",
    "\n"
   ]
  },
  {
   "cell_type": "code",
   "execution_count": 25,
   "metadata": {
    "tags": []
   },
   "outputs": [],
   "source": [
    "# import CSVs from previous notebooks\n",
    "bikes_df = pd.read_csv('bikes_df.csv')\n",
    "Cineplex_Theatres = pd.read_csv('Cineplex_Theatres.csv')\n",
    "Yelp_Cineplex_Theatres = pd.read_csv('Yelp_Cineplex_Theatres.csv')"
   ]
  },
  {
   "cell_type": "code",
   "execution_count": 26,
   "metadata": {
    "tags": []
   },
   "outputs": [],
   "source": [
    "import sqlite3\n",
    "from sqlite3 import Error\n",
    "\n",
    "def create_connection(path):\n",
    "    connection = None\n",
    "    try:\n",
    "        connection = sqlite3.connect(path)\n",
    "        print(\"Connection to SQLite DB successful\")\n",
    "    except Error as e:\n",
    "        print(f\"The error '{e}' occurred\")\n",
    "\n",
    "    return connection"
   ]
  },
  {
   "cell_type": "code",
   "execution_count": 27,
   "metadata": {
    "tags": []
   },
   "outputs": [],
   "source": [
    "db_path = r'C:\\Users\\adesi\\Statistical-Modelling-Project_LHL\\new.db'\n",
    "\n",
    "# Create a connection to the SQLite database\n",
    "connection = sqlite3.connect(db_path)\n"
   ]
  },
  {
   "cell_type": "code",
   "execution_count": 35,
   "metadata": {
    "tags": []
   },
   "outputs": [
    {
     "data": {
      "text/plain": [
       "248"
      ]
     },
     "execution_count": 35,
     "metadata": {},
     "output_type": "execute_result"
    }
   ],
   "source": [
    "# Data from stations\n",
    "bikes_df.to_sql('bikes_df', connection, if_exists='replace', index=False)"
   ]
  },
  {
   "cell_type": "code",
   "execution_count": 36,
   "metadata": {
    "tags": []
   },
   "outputs": [
    {
     "data": {
      "text/plain": [
       "333"
      ]
     },
     "execution_count": 36,
     "metadata": {},
     "output_type": "execute_result"
    }
   ],
   "source": [
    "# Data from Cinema dataframe\n",
    "Cineplex_Theatres.to_sql('Cineplex_Theatres', connection, if_exists='replace',index=False)"
   ]
  },
  {
   "cell_type": "code",
   "execution_count": 37,
   "metadata": {
    "tags": []
   },
   "outputs": [],
   "source": [
    "# A cursor is an object that provides a way to interact with the database\n",
    "cursor = connection.cursor()\n"
   ]
  },
  {
   "cell_type": "code",
   "execution_count": 38,
   "metadata": {
    "tags": []
   },
   "outputs": [],
   "source": [
    "bikes_df = bikes_df.rename(columns={'Latitude': 'bike_latitude',\n",
    "                                              'Longitude': 'bike_longitude'})"
   ]
  },
  {
   "cell_type": "code",
   "execution_count": 39,
   "metadata": {
    "tags": []
   },
   "outputs": [],
   "source": [
    "# Latitude and longitude column in both dataframes\n",
    "Cineplex_Theatres = Cineplex_Theatres.rename(columns={'Latitude': 'cine_latitude',\n",
    "                                              'Longitude': 'cine_longitude'})"
   ]
  },
  {
   "cell_type": "code",
   "execution_count": 43,
   "metadata": {
    "tags": []
   },
   "outputs": [
    {
     "name": "stdout",
     "output_type": "stream",
     "text": [
      "Executing query: \n",
      "         SELECT b.*, ct.*\n",
      "                FROM bikes_df AS b\n",
      "                JOIN Cineplex_Theatres AS ct\n",
      "                ON (\n",
      "                    ((ct.cine_latitude - b.bike_latitude) * (ct.cine_latitude - b.bike_latitude) +\n",
      "                    (ct.cine_longitude - b.bike_longitude) * (ct.cine_longitude - b.bike_longitude)) <= (1.0 / 111.32) * (1.0 / 111.32)\n",
      "                )\n",
      "            \n",
      "Number of rows fetched: 7026\n",
      "         Station Name  bike_latitude  bike_longitude  Bikes Available  \\\n",
      "0       10th & Cambie      49.262487     -123.114397               20   \n",
      "1       10th & Cambie      49.262487     -123.114397               20   \n",
      "2       10th & Cambie      49.262487     -123.114397               20   \n",
      "3       10th & Cambie      49.262487     -123.114397               20   \n",
      "4       10th & Cambie      49.262487     -123.114397               20   \n",
      "...               ...            ...             ...              ...   \n",
      "7021  Beatty & Robson      49.277773     -123.114237                6   \n",
      "7022  Beatty & Robson      49.277773     -123.114237                6   \n",
      "7023  Beatty & Robson      49.277773     -123.114237                6   \n",
      "7024  Beatty & Robson      49.277773     -123.114237                6   \n",
      "7025  Beatty & Robson      49.277773     -123.114237                6   \n",
      "\n",
      "      cine_latitude  cine_longitude                           name  distance  \\\n",
      "0         49.263025     -123.113913  Pacific Ballet Theatre School        69   \n",
      "1         49.254508     -123.114891                   Cineplex Inc       887   \n",
      "2         49.263025     -123.113913  Pacific Ballet Theatre School       271   \n",
      "3         49.254508     -123.114891                   Cineplex Inc       684   \n",
      "4         49.263025     -123.113913  Pacific Ballet Theatre School       309   \n",
      "...             ...             ...                            ...       ...   \n",
      "7021      49.280419     -123.106959                   Cineplex Inc       545   \n",
      "7022      49.281089     -123.112776       Vancouver Civic Theatres       967   \n",
      "7023      49.280300     -123.106705               Cineplex Cinemas       609   \n",
      "7024      49.282767     -123.109268   Kokoro Dance Theatre Society       661   \n",
      "7025      49.281089     -123.112776       Vancouver Civic Theatres       383   \n",
      "\n",
      "                                                address       telephone  \\\n",
      "0                  456 Broadway W, Vancouver BC V5Y 1R3  (604) 873-5024   \n",
      "1                  3440 Cambie St, Vancouver BC V5Z 2W8  (604) 709-3456   \n",
      "2                  456 Broadway W, Vancouver BC V5Y 1R3  (604) 873-5024   \n",
      "3                  3440 Cambie St, Vancouver BC V5Z 2W8  (604) 709-3456   \n",
      "4                  456 Broadway W, Vancouver BC V5Y 1R3  (604) 873-5024   \n",
      "...                                                 ...             ...   \n",
      "7021               88 West Pender, Vancouver BC V6B 6N9  (604) 806-0799   \n",
      "7022              600 Hamilton St, Vancouver BC V6B 3L4  (604) 665-3050   \n",
      "7023  88 W Pender St (btwn Abbott & Carrall), Vancou...  (604) 806-0799   \n",
      "7024            207 Hastings St W, Vancouver BC V6B 1H7  (604) 662-7441   \n",
      "7025              600 Hamilton St, Vancouver BC V6B 3L4  (604) 665-3050   \n",
      "\n",
      "      rating  open_true  \n",
      "0        NaN          0  \n",
      "1        NaN          0  \n",
      "2        NaN          0  \n",
      "3        NaN          0  \n",
      "4        NaN          0  \n",
      "...      ...        ...  \n",
      "7021     NaN          0  \n",
      "7022     NaN          0  \n",
      "7023     6.7          0  \n",
      "7024     NaN          1  \n",
      "7025     NaN          0  \n",
      "\n",
      "[7026 rows x 12 columns]\n"
     ]
    }
   ],
   "source": []
  },
  {
   "cell_type": "markdown",
   "metadata": {},
   "source": [
    "Provide a visualization that you used as part of your EDA process. Explain the initial pattern or relationship you discoved through this visualization. "
   ]
  },
  {
   "cell_type": "code",
   "execution_count": 51,
   "metadata": {
    "tags": []
   },
   "outputs": [],
   "source": [
    "result_df = pd.DataFrame(results, columns=[column[0] for column in cursor.description])"
   ]
  },
  {
   "cell_type": "code",
   "execution_count": 52,
   "metadata": {
    "tags": []
   },
   "outputs": [
    {
     "data": {
      "text/html": [
       "<div>\n",
       "<style scoped>\n",
       "    .dataframe tbody tr th:only-of-type {\n",
       "        vertical-align: middle;\n",
       "    }\n",
       "\n",
       "    .dataframe tbody tr th {\n",
       "        vertical-align: top;\n",
       "    }\n",
       "\n",
       "    .dataframe thead th {\n",
       "        text-align: right;\n",
       "    }\n",
       "</style>\n",
       "<table border=\"1\" class=\"dataframe\">\n",
       "  <thead>\n",
       "    <tr style=\"text-align: right;\">\n",
       "      <th></th>\n",
       "      <th>Station Name</th>\n",
       "      <th>bike_latitude</th>\n",
       "      <th>bike_longitude</th>\n",
       "      <th>Bikes Available</th>\n",
       "      <th>cine_latitude</th>\n",
       "      <th>cine_longitude</th>\n",
       "      <th>name</th>\n",
       "      <th>distance</th>\n",
       "      <th>address</th>\n",
       "      <th>telephone</th>\n",
       "      <th>rating</th>\n",
       "      <th>open_true</th>\n",
       "    </tr>\n",
       "  </thead>\n",
       "  <tbody>\n",
       "    <tr>\n",
       "      <th>0</th>\n",
       "      <td>10th &amp; Cambie</td>\n",
       "      <td>49.262487</td>\n",
       "      <td>-123.114397</td>\n",
       "      <td>20</td>\n",
       "      <td>49.263025</td>\n",
       "      <td>-123.113913</td>\n",
       "      <td>Pacific Ballet Theatre School</td>\n",
       "      <td>69</td>\n",
       "      <td>456 Broadway W, Vancouver BC V5Y 1R3</td>\n",
       "      <td>(604) 873-5024</td>\n",
       "      <td>NaN</td>\n",
       "      <td>0</td>\n",
       "    </tr>\n",
       "    <tr>\n",
       "      <th>1</th>\n",
       "      <td>10th &amp; Cambie</td>\n",
       "      <td>49.262487</td>\n",
       "      <td>-123.114397</td>\n",
       "      <td>20</td>\n",
       "      <td>49.254508</td>\n",
       "      <td>-123.114891</td>\n",
       "      <td>Cineplex Inc</td>\n",
       "      <td>887</td>\n",
       "      <td>3440 Cambie St, Vancouver BC V5Z 2W8</td>\n",
       "      <td>(604) 709-3456</td>\n",
       "      <td>NaN</td>\n",
       "      <td>0</td>\n",
       "    </tr>\n",
       "    <tr>\n",
       "      <th>2</th>\n",
       "      <td>10th &amp; Cambie</td>\n",
       "      <td>49.262487</td>\n",
       "      <td>-123.114397</td>\n",
       "      <td>20</td>\n",
       "      <td>49.263025</td>\n",
       "      <td>-123.113913</td>\n",
       "      <td>Pacific Ballet Theatre School</td>\n",
       "      <td>271</td>\n",
       "      <td>456 Broadway W, Vancouver BC V5Y 1R3</td>\n",
       "      <td>(604) 873-5024</td>\n",
       "      <td>NaN</td>\n",
       "      <td>0</td>\n",
       "    </tr>\n",
       "    <tr>\n",
       "      <th>3</th>\n",
       "      <td>10th &amp; Cambie</td>\n",
       "      <td>49.262487</td>\n",
       "      <td>-123.114397</td>\n",
       "      <td>20</td>\n",
       "      <td>49.254508</td>\n",
       "      <td>-123.114891</td>\n",
       "      <td>Cineplex Inc</td>\n",
       "      <td>684</td>\n",
       "      <td>3440 Cambie St, Vancouver BC V5Z 2W8</td>\n",
       "      <td>(604) 709-3456</td>\n",
       "      <td>NaN</td>\n",
       "      <td>0</td>\n",
       "    </tr>\n",
       "    <tr>\n",
       "      <th>4</th>\n",
       "      <td>10th &amp; Cambie</td>\n",
       "      <td>49.262487</td>\n",
       "      <td>-123.114397</td>\n",
       "      <td>20</td>\n",
       "      <td>49.263025</td>\n",
       "      <td>-123.113913</td>\n",
       "      <td>Pacific Ballet Theatre School</td>\n",
       "      <td>309</td>\n",
       "      <td>456 Broadway W, Vancouver BC V5Y 1R3</td>\n",
       "      <td>(604) 873-5024</td>\n",
       "      <td>NaN</td>\n",
       "      <td>0</td>\n",
       "    </tr>\n",
       "    <tr>\n",
       "      <th>...</th>\n",
       "      <td>...</td>\n",
       "      <td>...</td>\n",
       "      <td>...</td>\n",
       "      <td>...</td>\n",
       "      <td>...</td>\n",
       "      <td>...</td>\n",
       "      <td>...</td>\n",
       "      <td>...</td>\n",
       "      <td>...</td>\n",
       "      <td>...</td>\n",
       "      <td>...</td>\n",
       "      <td>...</td>\n",
       "    </tr>\n",
       "    <tr>\n",
       "      <th>7021</th>\n",
       "      <td>Beatty &amp; Robson</td>\n",
       "      <td>49.277773</td>\n",
       "      <td>-123.114237</td>\n",
       "      <td>6</td>\n",
       "      <td>49.280419</td>\n",
       "      <td>-123.106959</td>\n",
       "      <td>Cineplex Inc</td>\n",
       "      <td>545</td>\n",
       "      <td>88 West Pender, Vancouver BC V6B 6N9</td>\n",
       "      <td>(604) 806-0799</td>\n",
       "      <td>NaN</td>\n",
       "      <td>0</td>\n",
       "    </tr>\n",
       "    <tr>\n",
       "      <th>7022</th>\n",
       "      <td>Beatty &amp; Robson</td>\n",
       "      <td>49.277773</td>\n",
       "      <td>-123.114237</td>\n",
       "      <td>6</td>\n",
       "      <td>49.281089</td>\n",
       "      <td>-123.112776</td>\n",
       "      <td>Vancouver Civic Theatres</td>\n",
       "      <td>967</td>\n",
       "      <td>600 Hamilton St, Vancouver BC V6B 3L4</td>\n",
       "      <td>(604) 665-3050</td>\n",
       "      <td>NaN</td>\n",
       "      <td>0</td>\n",
       "    </tr>\n",
       "    <tr>\n",
       "      <th>7023</th>\n",
       "      <td>Beatty &amp; Robson</td>\n",
       "      <td>49.277773</td>\n",
       "      <td>-123.114237</td>\n",
       "      <td>6</td>\n",
       "      <td>49.280300</td>\n",
       "      <td>-123.106705</td>\n",
       "      <td>Cineplex Cinemas</td>\n",
       "      <td>609</td>\n",
       "      <td>88 W Pender St (btwn Abbott &amp; Carrall), Vancou...</td>\n",
       "      <td>(604) 806-0799</td>\n",
       "      <td>6.7</td>\n",
       "      <td>0</td>\n",
       "    </tr>\n",
       "    <tr>\n",
       "      <th>7024</th>\n",
       "      <td>Beatty &amp; Robson</td>\n",
       "      <td>49.277773</td>\n",
       "      <td>-123.114237</td>\n",
       "      <td>6</td>\n",
       "      <td>49.282767</td>\n",
       "      <td>-123.109268</td>\n",
       "      <td>Kokoro Dance Theatre Society</td>\n",
       "      <td>661</td>\n",
       "      <td>207 Hastings St W, Vancouver BC V6B 1H7</td>\n",
       "      <td>(604) 662-7441</td>\n",
       "      <td>NaN</td>\n",
       "      <td>1</td>\n",
       "    </tr>\n",
       "    <tr>\n",
       "      <th>7025</th>\n",
       "      <td>Beatty &amp; Robson</td>\n",
       "      <td>49.277773</td>\n",
       "      <td>-123.114237</td>\n",
       "      <td>6</td>\n",
       "      <td>49.281089</td>\n",
       "      <td>-123.112776</td>\n",
       "      <td>Vancouver Civic Theatres</td>\n",
       "      <td>383</td>\n",
       "      <td>600 Hamilton St, Vancouver BC V6B 3L4</td>\n",
       "      <td>(604) 665-3050</td>\n",
       "      <td>NaN</td>\n",
       "      <td>0</td>\n",
       "    </tr>\n",
       "  </tbody>\n",
       "</table>\n",
       "<p>7026 rows × 12 columns</p>\n",
       "</div>"
      ],
      "text/plain": [
       "         Station Name  bike_latitude  bike_longitude  Bikes Available  \\\n",
       "0       10th & Cambie      49.262487     -123.114397               20   \n",
       "1       10th & Cambie      49.262487     -123.114397               20   \n",
       "2       10th & Cambie      49.262487     -123.114397               20   \n",
       "3       10th & Cambie      49.262487     -123.114397               20   \n",
       "4       10th & Cambie      49.262487     -123.114397               20   \n",
       "...               ...            ...             ...              ...   \n",
       "7021  Beatty & Robson      49.277773     -123.114237                6   \n",
       "7022  Beatty & Robson      49.277773     -123.114237                6   \n",
       "7023  Beatty & Robson      49.277773     -123.114237                6   \n",
       "7024  Beatty & Robson      49.277773     -123.114237                6   \n",
       "7025  Beatty & Robson      49.277773     -123.114237                6   \n",
       "\n",
       "      cine_latitude  cine_longitude                           name  distance  \\\n",
       "0         49.263025     -123.113913  Pacific Ballet Theatre School        69   \n",
       "1         49.254508     -123.114891                   Cineplex Inc       887   \n",
       "2         49.263025     -123.113913  Pacific Ballet Theatre School       271   \n",
       "3         49.254508     -123.114891                   Cineplex Inc       684   \n",
       "4         49.263025     -123.113913  Pacific Ballet Theatre School       309   \n",
       "...             ...             ...                            ...       ...   \n",
       "7021      49.280419     -123.106959                   Cineplex Inc       545   \n",
       "7022      49.281089     -123.112776       Vancouver Civic Theatres       967   \n",
       "7023      49.280300     -123.106705               Cineplex Cinemas       609   \n",
       "7024      49.282767     -123.109268   Kokoro Dance Theatre Society       661   \n",
       "7025      49.281089     -123.112776       Vancouver Civic Theatres       383   \n",
       "\n",
       "                                                address       telephone  \\\n",
       "0                  456 Broadway W, Vancouver BC V5Y 1R3  (604) 873-5024   \n",
       "1                  3440 Cambie St, Vancouver BC V5Z 2W8  (604) 709-3456   \n",
       "2                  456 Broadway W, Vancouver BC V5Y 1R3  (604) 873-5024   \n",
       "3                  3440 Cambie St, Vancouver BC V5Z 2W8  (604) 709-3456   \n",
       "4                  456 Broadway W, Vancouver BC V5Y 1R3  (604) 873-5024   \n",
       "...                                                 ...             ...   \n",
       "7021               88 West Pender, Vancouver BC V6B 6N9  (604) 806-0799   \n",
       "7022              600 Hamilton St, Vancouver BC V6B 3L4  (604) 665-3050   \n",
       "7023  88 W Pender St (btwn Abbott & Carrall), Vancou...  (604) 806-0799   \n",
       "7024            207 Hastings St W, Vancouver BC V6B 1H7  (604) 662-7441   \n",
       "7025              600 Hamilton St, Vancouver BC V6B 3L4  (604) 665-3050   \n",
       "\n",
       "      rating  open_true  \n",
       "0        NaN          0  \n",
       "1        NaN          0  \n",
       "2        NaN          0  \n",
       "3        NaN          0  \n",
       "4        NaN          0  \n",
       "...      ...        ...  \n",
       "7021     NaN          0  \n",
       "7022     NaN          0  \n",
       "7023     6.7          0  \n",
       "7024     NaN          1  \n",
       "7025     NaN          0  \n",
       "\n",
       "[7026 rows x 12 columns]"
      ]
     },
     "execution_count": 52,
     "metadata": {},
     "output_type": "execute_result"
    }
   ],
   "source": [
    "result_df"
   ]
  },
  {
   "cell_type": "code",
   "execution_count": 65,
   "metadata": {
    "tags": []
   },
   "outputs": [],
   "source": [
    "result_df.to_csv('result_df.csv', index=False)"
   ]
  },
  {
   "cell_type": "code",
   "execution_count": 53,
   "metadata": {
    "tags": []
   },
   "outputs": [
    {
     "data": {
      "text/html": [
       "<div>\n",
       "<style scoped>\n",
       "    .dataframe tbody tr th:only-of-type {\n",
       "        vertical-align: middle;\n",
       "    }\n",
       "\n",
       "    .dataframe tbody tr th {\n",
       "        vertical-align: top;\n",
       "    }\n",
       "\n",
       "    .dataframe thead th {\n",
       "        text-align: right;\n",
       "    }\n",
       "</style>\n",
       "<table border=\"1\" class=\"dataframe\">\n",
       "  <thead>\n",
       "    <tr style=\"text-align: right;\">\n",
       "      <th></th>\n",
       "      <th>bike_latitude</th>\n",
       "      <th>bike_longitude</th>\n",
       "      <th>Bikes Available</th>\n",
       "      <th>cine_latitude</th>\n",
       "      <th>cine_longitude</th>\n",
       "      <th>distance</th>\n",
       "      <th>rating</th>\n",
       "      <th>open_true</th>\n",
       "    </tr>\n",
       "  </thead>\n",
       "  <tbody>\n",
       "    <tr>\n",
       "      <th>count</th>\n",
       "      <td>7026.000000</td>\n",
       "      <td>7026.000000</td>\n",
       "      <td>7026.000000</td>\n",
       "      <td>7026.000000</td>\n",
       "      <td>7026.000000</td>\n",
       "      <td>7026.000000</td>\n",
       "      <td>1673.000000</td>\n",
       "      <td>7026.000000</td>\n",
       "    </tr>\n",
       "    <tr>\n",
       "      <th>mean</th>\n",
       "      <td>49.277380</td>\n",
       "      <td>-123.120403</td>\n",
       "      <td>10.393254</td>\n",
       "      <td>49.277438</td>\n",
       "      <td>-123.119922</td>\n",
       "      <td>637.384002</td>\n",
       "      <td>7.474118</td>\n",
       "      <td>0.322659</td>\n",
       "    </tr>\n",
       "    <tr>\n",
       "      <th>std</th>\n",
       "      <td>0.008137</td>\n",
       "      <td>0.012649</td>\n",
       "      <td>5.560901</td>\n",
       "      <td>0.007352</td>\n",
       "      <td>0.012279</td>\n",
       "      <td>254.116147</td>\n",
       "      <td>0.654223</td>\n",
       "      <td>0.467527</td>\n",
       "    </tr>\n",
       "    <tr>\n",
       "      <th>min</th>\n",
       "      <td>49.249184</td>\n",
       "      <td>-123.170661</td>\n",
       "      <td>0.000000</td>\n",
       "      <td>49.254508</td>\n",
       "      <td>-123.162527</td>\n",
       "      <td>35.000000</td>\n",
       "      <td>6.700000</td>\n",
       "      <td>0.000000</td>\n",
       "    </tr>\n",
       "    <tr>\n",
       "      <th>25%</th>\n",
       "      <td>49.273833</td>\n",
       "      <td>-123.124697</td>\n",
       "      <td>6.000000</td>\n",
       "      <td>49.276798</td>\n",
       "      <td>-123.124201</td>\n",
       "      <td>452.000000</td>\n",
       "      <td>6.700000</td>\n",
       "      <td>0.000000</td>\n",
       "    </tr>\n",
       "    <tr>\n",
       "      <th>50%</th>\n",
       "      <td>49.279739</td>\n",
       "      <td>-123.117772</td>\n",
       "      <td>11.000000</td>\n",
       "      <td>49.280570</td>\n",
       "      <td>-123.119384</td>\n",
       "      <td>673.000000</td>\n",
       "      <td>7.600000</td>\n",
       "      <td>0.000000</td>\n",
       "    </tr>\n",
       "    <tr>\n",
       "      <th>75%</th>\n",
       "      <td>49.282759</td>\n",
       "      <td>-123.112543</td>\n",
       "      <td>13.000000</td>\n",
       "      <td>49.281878</td>\n",
       "      <td>-123.112106</td>\n",
       "      <td>865.000000</td>\n",
       "      <td>8.100000</td>\n",
       "      <td>1.000000</td>\n",
       "    </tr>\n",
       "    <tr>\n",
       "      <th>max</th>\n",
       "      <td>49.290112</td>\n",
       "      <td>-123.099917</td>\n",
       "      <td>28.000000</td>\n",
       "      <td>49.283694</td>\n",
       "      <td>-123.106705</td>\n",
       "      <td>1008.000000</td>\n",
       "      <td>8.200000</td>\n",
       "      <td>1.000000</td>\n",
       "    </tr>\n",
       "  </tbody>\n",
       "</table>\n",
       "</div>"
      ],
      "text/plain": [
       "       bike_latitude  bike_longitude  Bikes Available  cine_latitude  \\\n",
       "count    7026.000000     7026.000000      7026.000000    7026.000000   \n",
       "mean       49.277380     -123.120403        10.393254      49.277438   \n",
       "std         0.008137        0.012649         5.560901       0.007352   \n",
       "min        49.249184     -123.170661         0.000000      49.254508   \n",
       "25%        49.273833     -123.124697         6.000000      49.276798   \n",
       "50%        49.279739     -123.117772        11.000000      49.280570   \n",
       "75%        49.282759     -123.112543        13.000000      49.281878   \n",
       "max        49.290112     -123.099917        28.000000      49.283694   \n",
       "\n",
       "       cine_longitude     distance       rating    open_true  \n",
       "count     7026.000000  7026.000000  1673.000000  7026.000000  \n",
       "mean      -123.119922   637.384002     7.474118     0.322659  \n",
       "std          0.012279   254.116147     0.654223     0.467527  \n",
       "min       -123.162527    35.000000     6.700000     0.000000  \n",
       "25%       -123.124201   452.000000     6.700000     0.000000  \n",
       "50%       -123.119384   673.000000     7.600000     0.000000  \n",
       "75%       -123.112106   865.000000     8.100000     1.000000  \n",
       "max       -123.106705  1008.000000     8.200000     1.000000  "
      ]
     },
     "execution_count": 53,
     "metadata": {},
     "output_type": "execute_result"
    }
   ],
   "source": [
    "result_df.describe()"
   ]
  },
  {
   "cell_type": "code",
   "execution_count": 56,
   "metadata": {
    "tags": []
   },
   "outputs": [
    {
     "name": "stdout",
     "output_type": "stream",
     "text": [
      "Index(['Station Name', 'bike_latitude', 'bike_longitude', 'Bikes Available'], dtype='object')\n"
     ]
    }
   ],
   "source": [
    "print(bikes_df.columns)"
   ]
  },
  {
   "cell_type": "code",
   "execution_count": null,
   "metadata": {},
   "outputs": [],
   "source": []
  },
  {
   "cell_type": "markdown",
   "metadata": {},
   "source": [
    "# Database"
   ]
  },
  {
   "cell_type": "markdown",
   "metadata": {},
   "source": [
    "Put all your results in an SQLite3 database (remember, SQLite stores its databases as files in your local machine - make sure to create your database in your project's data/ directory!)"
   ]
  },
  {
   "cell_type": "code",
   "execution_count": 44,
   "metadata": {},
   "outputs": [
    {
     "name": "stdout",
     "output_type": "stream",
     "text": [
      "Executing query: \n",
      "         SELECT b.*, ct.*\n",
      "                FROM bikes_df AS b\n",
      "                JOIN Cineplex_Theatres AS ct\n",
      "                ON (\n",
      "                    ((ct.cine_latitude - b.bike_latitude) * (ct.cine_latitude - b.bike_latitude) +\n",
      "                    (ct.cine_longitude - b.bike_longitude) * (ct.cine_longitude - b.bike_longitude)) <= (1.0 / 111.32) * (1.0 / 111.32)\n",
      "                )\n",
      "            \n",
      "Number of rows fetched: 7026\n",
      "         Station Name  bike_latitude  bike_longitude  Bikes Available  \\\n",
      "0       10th & Cambie      49.262487     -123.114397               20   \n",
      "1       10th & Cambie      49.262487     -123.114397               20   \n",
      "2       10th & Cambie      49.262487     -123.114397               20   \n",
      "3       10th & Cambie      49.262487     -123.114397               20   \n",
      "4       10th & Cambie      49.262487     -123.114397               20   \n",
      "...               ...            ...             ...              ...   \n",
      "7021  Beatty & Robson      49.277773     -123.114237                6   \n",
      "7022  Beatty & Robson      49.277773     -123.114237                6   \n",
      "7023  Beatty & Robson      49.277773     -123.114237                6   \n",
      "7024  Beatty & Robson      49.277773     -123.114237                6   \n",
      "7025  Beatty & Robson      49.277773     -123.114237                6   \n",
      "\n",
      "      cine_latitude  cine_longitude                           name  distance  \\\n",
      "0         49.263025     -123.113913  Pacific Ballet Theatre School        69   \n",
      "1         49.254508     -123.114891                   Cineplex Inc       887   \n",
      "2         49.263025     -123.113913  Pacific Ballet Theatre School       271   \n",
      "3         49.254508     -123.114891                   Cineplex Inc       684   \n",
      "4         49.263025     -123.113913  Pacific Ballet Theatre School       309   \n",
      "...             ...             ...                            ...       ...   \n",
      "7021      49.280419     -123.106959                   Cineplex Inc       545   \n",
      "7022      49.281089     -123.112776       Vancouver Civic Theatres       967   \n",
      "7023      49.280300     -123.106705               Cineplex Cinemas       609   \n",
      "7024      49.282767     -123.109268   Kokoro Dance Theatre Society       661   \n",
      "7025      49.281089     -123.112776       Vancouver Civic Theatres       383   \n",
      "\n",
      "                                                address       telephone  \\\n",
      "0                  456 Broadway W, Vancouver BC V5Y 1R3  (604) 873-5024   \n",
      "1                  3440 Cambie St, Vancouver BC V5Z 2W8  (604) 709-3456   \n",
      "2                  456 Broadway W, Vancouver BC V5Y 1R3  (604) 873-5024   \n",
      "3                  3440 Cambie St, Vancouver BC V5Z 2W8  (604) 709-3456   \n",
      "4                  456 Broadway W, Vancouver BC V5Y 1R3  (604) 873-5024   \n",
      "...                                                 ...             ...   \n",
      "7021               88 West Pender, Vancouver BC V6B 6N9  (604) 806-0799   \n",
      "7022              600 Hamilton St, Vancouver BC V6B 3L4  (604) 665-3050   \n",
      "7023  88 W Pender St (btwn Abbott & Carrall), Vancou...  (604) 806-0799   \n",
      "7024            207 Hastings St W, Vancouver BC V6B 1H7  (604) 662-7441   \n",
      "7025              600 Hamilton St, Vancouver BC V6B 3L4  (604) 665-3050   \n",
      "\n",
      "      rating  open_true  \n",
      "0        NaN          0  \n",
      "1        NaN          0  \n",
      "2        NaN          0  \n",
      "3        NaN          0  \n",
      "4        NaN          0  \n",
      "...      ...        ...  \n",
      "7021     NaN          0  \n",
      "7022     NaN          0  \n",
      "7023     6.7          0  \n",
      "7024     NaN          1  \n",
      "7025     NaN          0  \n",
      "\n",
      "[7026 rows x 12 columns]\n"
     ]
    }
   ],
   "source": [
    "try:\n",
    "    # create a cursor object to execute SQL queries\n",
    "    cursor = connection.cursor()\n",
    "\n",
    "    # Execute the spatial join SQL query\n",
    "    query = \"\"\"\n",
    "         SELECT b.*, ct.*\n",
    "                FROM bikes_df AS b\n",
    "                JOIN Cineplex_Theatres AS ct\n",
    "                ON (\n",
    "                    ((ct.cine_latitude - b.bike_latitude) * (ct.cine_latitude - b.bike_latitude) +\n",
    "                    (ct.cine_longitude - b.bike_longitude) * (ct.cine_longitude - b.bike_longitude)) <= (1.0 / 111.32) * (1.0 / 111.32)\n",
    "                )\n",
    "            \"\"\"\n",
    "    print(\"Executing query:\", query)\n",
    "\n",
    "    # Fetch the results\n",
    "    cursor.execute(query)\n",
    "    results = cursor.fetchall()\n",
    "\n",
    "    # Print the number of rows fetched\n",
    "    print(\"Number of rows fetched:\", len(results))\n",
    "\n",
    "    # Check if there are results\n",
    "    if results:\n",
    "        # Create a DataFrame with the results\n",
    "        result_df = pd.DataFrame(results, columns=[column[0] for column in cursor.description])\n",
    "        print(result_df)\n",
    "    else:\n",
    "        print(\"No matching rows found.\")\n",
    "\n",
    "except sqlite3.Error as e:\n",
    "    print(f\"SQLite error: {e}\")"
   ]
  },
  {
   "cell_type": "code",
   "execution_count": 64,
   "metadata": {},
   "outputs": [
    {
     "data": {
      "text/plain": [
       "Text(0.5, 1.0, 'Ratings')"
      ]
     },
     "execution_count": 64,
     "metadata": {},
     "output_type": "execute_result"
    },
    {
     "data": {
      "image/png": "[encoded data removed]",
      "text/plain": [
       "<Figure size 640x480 with 1 Axes>"
      ]
     },
     "metadata": {},
     "output_type": "display_data"
    }
   ],
   "source": [
    "# Ratings\n",
    "plt.hist(result_df['rating'], bins=4, color='green')\n",
    "plt.xlabel('Rating')\n",
    "plt.ylabel('Frequency')\n",
    "plt.title('Ratings')\n"
   ]
  },
  {
   "cell_type": "code",
   "execution_count": null,
   "metadata": {},
   "outputs": [],
   "source": []
  }
 ],
 "metadata": {
  "kernelspec": {
   "display_name": "Python 3 (ipykernel)",
   "language": "python",
   "name": "python3"
  },
  "language_info": {
   "codemirror_mode": {
    "name": "ipython",
    "version": 3
   },
   "file_extension": ".py",
   "mimetype": "text/x-python",
   "name": "python",
   "nbconvert_exporter": "python",
   "pygments_lexer": "ipython3",
   "version": "3.11.5"
  }
 },
 "nbformat": 4,
 "nbformat_minor": 4
}
